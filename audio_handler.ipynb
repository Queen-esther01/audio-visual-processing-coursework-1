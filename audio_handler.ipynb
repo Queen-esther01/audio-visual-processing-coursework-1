{
 "cells": [
  {
   "metadata": {
    "ExecuteTime": {
     "end_time": "2025-10-29T14:15:43.295070Z",
     "start_time": "2025-10-29T14:15:43.268178Z"
    }
   },
   "cell_type": "code",
   "source": [
    "# Read Audio\n",
    "import soundfile as sf\n",
    "import  numpy as np\n",
    "import  math\n",
    "import glob\n",
    "from pathlib import Path\n",
    "import os\n"
   ],
   "id": "37db5b818bd29b10",
   "outputs": [],
   "execution_count": 65
  },
  {
   "metadata": {
    "ExecuteTime": {
     "end_time": "2025-10-29T13:54:26.455343Z",
     "start_time": "2025-10-29T13:54:26.447284Z"
    }
   },
   "cell_type": "code",
   "outputs": [
    {
     "name": "stdout",
     "output_type": "stream",
     "text": [
      "Sample number: 48000\n",
      "r_in: 50176\n",
      "Duration 1.0453333333333332 in seconds\n",
      "frame length  50.175999999999995\n"
     ]
    }
   ],
   "execution_count": 43,
   "source": [
    "file_name = 'names_audio_wav/Ahmed001'\n",
    "r_in, fs_in = sf.read(f'{file_name}.wav', dtype='float32')\n",
    "duration = len(r_in) / fs_in\n",
    "print(f\"Sample number: {fs_in}\")\n",
    "print(f\"r_in: {len(r_in)}\")\n",
    "print(f\"Duration {duration} in seconds\")\n",
    "frame_length = duration/1000 * fs_in\n",
    "print(\"frame length \", frame_length)"
   ],
   "id": "ba77e63a250e8b74"
  },
  {
   "metadata": {},
   "cell_type": "code",
   "outputs": [],
   "execution_count": null,
   "source": [
    "\n",
    "for  audio_file in sorted(glob.glob('names_audio_wav/*.wav')):\n",
    "    r_in, fs_in = sf.read(f'{audio_file}', dtype='float32')\n",
    "    duration = len(r_in) / fs_in\n",
    "    print(f\"Sample number: {fs_in}\")\n",
    "    print(f\"r_in: {len(r_in)}\")\n",
    "    print(f\"Duration {duration} in seconds\")\n",
    "    frame_length = duration/1000 * fs_in\n",
    "    print(\"frame length \", frame_length)\n"
   ],
   "id": "fe7f78ca8a23b2f4"
  },
  {
   "metadata": {
    "collapsed": true,
    "ExecuteTime": {
     "end_time": "2025-10-29T14:15:49.661296Z",
     "start_time": "2025-10-29T14:15:49.627437Z"
    }
   },
   "cell_type": "code",
   "outputs": [
    {
     "name": "stdout",
     "output_type": "stream",
     "text": [
      "fbank [  189.54889359   710.78788431   746.44792937  3487.22822464\n",
      " 15806.67610783  4949.98164266   994.05408312  3264.6103283 ]\n",
      "======\n",
      "m_fb [  189.54889359   710.78788431   746.44792937  3487.22822464\n",
      " 15806.67610783  4949.98164266   994.05408312  3264.6103283 ]\n"
     ]
    }
   ],
   "execution_count": 66,
   "source": [
    "# Feature Extraction\n",
    "def magAndPhase(speechFrame):\n",
    "    window = np.hamming(len(speechFrame))\n",
    "    windowedFrame = speechFrame * window\n",
    "    xF = np.fft.fft(windowedFrame.squeeze())\n",
    "    magSpec = np.abs(xF)\n",
    "    phaseSpec = np.angle(xF)\n",
    "    return magSpec, phaseSpec\n",
    "\n",
    "def linearRectangularFilterbank(frame_length, magspec, numChannels):\n",
    "    step = int(frame_length)\n",
    "    fbank = np.zeros(numChannels)\n",
    "    for i in range(numChannels):\n",
    "        start = i * step\n",
    "        end = start + step\n",
    "        fbank[i] = sum(magspec[start:end])\n",
    "    return fbank\n",
    "\n",
    "def matrixFB(frame_length, magSpec, numChannels):\n",
    "    step = int(frame_length)\n",
    "    fbank = np.zeros(numChannels)\n",
    "    for i in range(numChannels):\n",
    "        r = np.zeros(512)\n",
    "        start = i * step\n",
    "        end = start + step\n",
    "        r[start:end] = 1\n",
    "        fbank[i] = np.matmul(r, magSpec[0:512])\n",
    "    return fbank\n",
    "\n",
    "\n",
    "frame_start = fs_in\n",
    "magSpec, phaseSpec = magAndPhase(r_in)\n",
    "fbank = linearRectangularFilterbank(frame_length,magSpec, 8)\n",
    "# m_fb = matrixFB(frame_length, magSpec, 8)\n",
    "\n",
    "# np.save(file_name, fbank)\n",
    "print(\"fbank\", fbank)\n",
    "print(\"======\")\n",
    "# print(\"m_fb\", m_fb)\n",
    "\n"
   ],
   "id": "2e90cd3d61f8f5c0"
  },
  {
   "metadata": {
    "ExecuteTime": {
     "end_time": "2025-10-29T14:22:37.470927Z",
     "start_time": "2025-10-29T14:22:37.464639Z"
    }
   },
   "cell_type": "code",
   "source": [
    "# Acoustic Modeling\n",
    "data = []\n",
    "labels = []\n",
    "data.append(fbank)\n",
    "max_frames=8\n",
    "# label = stemFilename.split('_')\n",
    "labels.append(\"Ahmed\")\n",
    "print(data[0].shape)\n",
    "mfcc_data = np.pad(fbank, ((0,0), (0, max_frames-fbank.shape[1])) )\n"
   ],
   "id": "4fa4530c87256e6c",
   "outputs": [
    {
     "name": "stdout",
     "output_type": "stream",
     "text": [
      "(8,)\n",
      "(8,)\n"
     ]
    }
   ],
   "execution_count": 69
  },
  {
   "metadata": {
    "ExecuteTime": {
     "end_time": "2025-10-29T13:54:26.484411Z",
     "start_time": "2025-10-29T13:15:15.499565Z"
    }
   },
   "cell_type": "code",
   "source": "# Noise Compensation",
   "id": "fc8fec25cf8377d4",
   "outputs": [],
   "execution_count": 11
  },
  {
   "metadata": {
    "ExecuteTime": {
     "end_time": "2025-10-29T13:54:26.484657Z",
     "start_time": "2025-10-29T13:15:15.503557Z"
    }
   },
   "cell_type": "code",
   "source": "# Testing & Evaluation",
   "id": "d8185a02e75949a2",
   "outputs": [],
   "execution_count": 12
  }
 ],
 "metadata": {
  "kernelspec": {
   "display_name": "Python 3",
   "language": "python",
   "name": "python3"
  },
  "language_info": {
   "codemirror_mode": {
    "name": "ipython",
    "version": 2
   },
   "file_extension": ".py",
   "mimetype": "text/x-python",
   "name": "python",
   "nbconvert_exporter": "python",
   "pygments_lexer": "ipython2",
   "version": "2.7.6"
  }
 },
 "nbformat": 4,
 "nbformat_minor": 5
}
